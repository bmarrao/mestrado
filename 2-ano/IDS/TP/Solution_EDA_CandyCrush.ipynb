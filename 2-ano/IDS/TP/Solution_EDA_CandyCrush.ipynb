{
 "cells": [
  {
   "cell_type": "markdown",
   "metadata": {},
   "source": [
    "# Explore the Candy Crush dataset\n",
    "\n",
    "The dataset contains one week of data from a sample of players who played Candy Crush back in 2014. The data is also from a single episode, that is, a set of 15 levels. It has the following columns:\n",
    "\n",
    "* player_id: a unique player id\n",
    "* dt: the date\n",
    "* level: the level number within the episode, from 1 to 15.\n",
    "* num_attempts: number of level attempts for the player on that level and date.\n",
    "* num_success: number of level attempts that resulted in a success/win for the player on that level and date.\n",
    "\n",
    "The granularity of the dataset is player, date, and level. That is, there is a row for every player, day, and level recording the total number of attempts and how many of those resulted in a win."
   ]
  },
  {
   "cell_type": "code",
   "execution_count": 2,
   "metadata": {},
   "outputs": [],
   "source": [
    "# load the dataset and count the number of rows and columns\n",
    "#df = ...\n",
    "import pandas as pd\n",
    "import os\n",
    "\n",
    "os.chdir(\"/Users/test/Dropbox/FCUP/FCUP-Aulas/2024_2025/IntroDataScience/datasets/\")\n",
    "# Load the 'ransom.csv' into a DataFrame\n",
    "df = pd.read_csv('candy_crush.csv')"
   ]
  },
  {
   "cell_type": "code",
   "execution_count": null,
   "metadata": {},
   "outputs": [],
   "source": [
    "# Count and display the number of unique players\n",
    "\n",
    "\n",
    "# Display the date range of the data. \n",
    "# To check the range of dates in a column of a Pandas DataFrame, you can use the min() and max() functions, just like you would for numerical data. However, you'll need to ensure that the column is of a date or datetime data type.\n"
   ]
  },
  {
   "cell_type": "markdown",
   "metadata": {},
   "source": [
    "4. Computing level difficulty\n",
    "Within each Candy Crush episode, there is a mix of easier and tougher levels. Luck and individual skill make the number of attempts required to pass a level different from player to player. The assumption is that difficult levels require more attempts on average than easier ones. That is, the harder a level is, the lower the probability to pass that level in a single attempt is.\n",
    "\n",
    "A simple approach to model this probability is as a Bernoulli process; as a binary outcome (you either win or lose) characterized by a single parameter Pwin: the probability of winning the level in a single attempt. This probability can be estimated for each level as:\n",
    "\n",
    "Pwin = Sum (wins) / Sum (attempts)\n",
    "\n",
    "For example, let's say a level has been played 10 times and 2 of those attempts ended up in a victory. Then the probability of winning in a single attempt would be pwin = 2 / 10 = 20%.\n",
    "\n",
    "Now, let's compute the difficulty Pwin separately for each of the 15 levels."
   ]
  },
  {
   "cell_type": "code",
   "execution_count": 3,
   "metadata": {},
   "outputs": [
    {
     "name": "stdout",
     "output_type": "stream",
     "text": [
      "    level      pwin\n",
      "0       1  0.618759\n",
      "1       2  0.518288\n",
      "2       3  0.428202\n",
      "3       4  0.372425\n",
      "4       5  0.091394\n",
      "5       6  0.419862\n",
      "6       7  0.135661\n",
      "7       8  0.040529\n",
      "8       9  0.081301\n",
      "9      10  0.187995\n",
      "10     11  0.108161\n",
      "11     12  0.095952\n",
      "12     13  0.516956\n",
      "13     14  0.280303\n"
     ]
    }
   ],
   "source": [
    "min_level = min(df.level)\n",
    "max_level = max(df.level)\n",
    "\n",
    "levels = []\n",
    "pwin = []\n",
    "\n",
    "for i in range(min_level, max_level, 1):\n",
    "    sa = sum(df[df.level == i].num_attempts)\n",
    "    ss = sum(df[df.level == i].num_success)\n",
    "    pwn = ss / sa\n",
    "    levels.append(i)\n",
    "    pwin.append(pwn)\n",
    "\n",
    "pwn_df = pd.DataFrame({'level': levels, 'pwin' : pwin })\n",
    "print(pwn_df)\n"
   ]
  },
  {
   "cell_type": "code",
   "execution_count": 7,
   "metadata": {},
   "outputs": [
    {
     "data": {
      "text/plain": [
       "<matplotlib.lines.Line2D at 0x7f9dc5388280>"
      ]
     },
     "execution_count": 7,
     "metadata": {},
     "output_type": "execute_result"
    },
    {
     "data": {
      "image/png": "[encoded data removed]",
      "text/plain": [
       "<Figure size 640x480 with 1 Axes>"
      ]
     },
     "metadata": {},
     "output_type": "display_data"
    }
   ],
   "source": [
    "# plot the difficulty profile for all levels\n",
    "# choose the most appropriate type of visualization\n",
    "from matplotlib import pyplot as plt\n",
    "plt.bar(pwn_df.level, pwn_df.pwin)\n",
    "plt.xlabel(\"Level\")\n",
    "plt.ylabel(\"Difficulty\")\n",
    "\n",
    "# Add a horizontal dashed line at y=25\n",
    "plt.axhline(y=0.1, color='red', linestyle='--')"
   ]
  },
  {
   "cell_type": "markdown",
   "metadata": {},
   "source": [
    "# Compute Uncertainty\n",
    "As Data Scientists we should always report some measure of the uncertainty of any provided numbers. Maybe tomorrow, another sample will give us slightly different values for the difficulties? Here we will simply use the Standard error as a measure of uncertainty:\n",
    "\n",
    "$S_{error} = \\frac{σ_{sample}}{\\sqrt{n}}$\n",
    "\n",
    "Here $n$ is the number of datapoints and $S$ sample is the sample standard deviation. For a Bernoulli process, the sample standard deviation is:\n",
    "\n",
    "$S_{sample} = \\sqrt{p_{win}(1-p_{win})}$\n",
    "\n",
    "Therefore, we can calculate the standard error like this:\n",
    "\n",
    "$S_{error} = \\sqrt{\\frac{p_{win}(1-p_{win})}{n}}$\n",
    "\n",
    "We already have all we need in the difficulty data frame! Every level has been played n number of times and we have their difficulty $p_{win}$. Now, let's calculate the standard error for each level."
   ]
  },
  {
   "cell_type": "code",
   "execution_count": null,
   "metadata": {},
   "outputs": [],
   "source": [
    "# Compute the standard error of p_win for each level\n",
    "\n",
    "# Create a barplot with standard errors"
   ]
  },
  {
   "cell_type": "markdown",
   "metadata": {},
   "source": [
    "# Estimating probabilities of winning\n",
    "One question a level designer might ask is: \"How likely is it that a player will reach a level without losing a single time?\" Let's calculate this using the estimated level difficulties!\n",
    "Recall that the probability of two independent events happening is simply the product of the individual probabilities. So the probability of winning both level 1 and level 2 on the first attempt would be\n",
    "$p_win[1] * p_win[2]$\n",
    "\n",
    "To extend this to all level $Y$ you can use the multiplicatio all the numbers in a vector together"
   ]
  },
  {
   "cell_type": "code",
   "execution_count": 10,
   "metadata": {},
   "outputs": [
    {
     "data": {
      "text/plain": [
       "0.0046740947976839945"
      ]
     },
     "execution_count": 10,
     "metadata": {},
     "output_type": "execute_result"
    }
   ],
   "source": [
    "# create a function that given the level calculates the probability of reaching that level without loosing.\n",
    "import numpy as np\n",
    "# until level 5\n",
    "np.prod(pwin[0:5])"
   ]
  }
 ],
 "metadata": {
  "kernelspec": {
   "display_name": "Python 3 (ipykernel)",
   "language": "python",
   "name": "python3"
  },
  "language_info": {
   "codemirror_mode": {
    "name": "ipython",
    "version": 3
   },
   "file_extension": ".py",
   "mimetype": "text/x-python",
   "name": "python",
   "nbconvert_exporter": "python",
   "pygments_lexer": "ipython3",
   "version": "3.10.12"
  }
 },
 "nbformat": 4,
 "nbformat_minor": 4
}
